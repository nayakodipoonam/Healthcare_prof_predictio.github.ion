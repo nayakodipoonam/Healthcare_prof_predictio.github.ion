{
 "cells": [
  {
   "cell_type": "code",
   "execution_count": 177,
   "id": "b9a535ed",
   "metadata": {},
   "outputs": [],
   "source": [
    "#importing neccessary libraries\n",
    "\n",
    "import numpy as np\n",
    "import pandas as pd\n",
    "import tensorflow as tf\n",
    "import pickle\n",
    "from tensorflow import keras\n",
    "from keras.models import *"
   ]
  },
  {
   "cell_type": "code",
   "execution_count": 178,
   "id": "f466bd04",
   "metadata": {},
   "outputs": [],
   "source": [
    "# Loading the dataset\n",
    "df = pd.read_csv('Doceree-HCP_Train.csv',engine='python',encoding='latin1')"
   ]
  },
  {
   "cell_type": "markdown",
   "id": "42bf4a7c",
   "metadata": {},
   "source": [
    "# Exploring Dataset"
   ]
  },
  {
   "cell_type": "code",
   "execution_count": 179,
   "id": "fe7bb63d",
   "metadata": {},
   "outputs": [
    {
     "data": {
      "text/html": [
       "<div>\n",
       "<style scoped>\n",
       "    .dataframe tbody tr th:only-of-type {\n",
       "        vertical-align: middle;\n",
       "    }\n",
       "\n",
       "    .dataframe tbody tr th {\n",
       "        vertical-align: top;\n",
       "    }\n",
       "\n",
       "    .dataframe thead th {\n",
       "        text-align: right;\n",
       "    }\n",
       "</style>\n",
       "<table border=\"1\" class=\"dataframe\">\n",
       "  <thead>\n",
       "    <tr style=\"text-align: right;\">\n",
       "      <th></th>\n",
       "      <th>ID</th>\n",
       "      <th>DEVICETYPE</th>\n",
       "      <th>PLATFORM_ID</th>\n",
       "      <th>BIDREQUESTIP</th>\n",
       "      <th>USERPLATFORMUID</th>\n",
       "      <th>USERCITY</th>\n",
       "      <th>USERZIPCODE</th>\n",
       "      <th>USERAGENT</th>\n",
       "      <th>PLATFORMTYPE</th>\n",
       "      <th>CHANNELTYPE</th>\n",
       "      <th>URL</th>\n",
       "      <th>KEYWORDS</th>\n",
       "      <th>TAXONOMY</th>\n",
       "      <th>IS_HCP</th>\n",
       "    </tr>\n",
       "  </thead>\n",
       "  <tbody>\n",
       "    <tr>\n",
       "      <th>0</th>\n",
       "      <td>1001</td>\n",
       "      <td>Desktop</td>\n",
       "      <td>2</td>\n",
       "      <td>170.173.0.22</td>\n",
       "      <td>6974dcaa-f932-480e-9fb5-c52e20e1393a</td>\n",
       "      <td>Portland</td>\n",
       "      <td>97206.0</td>\n",
       "      <td>Mozilla/5.0 (Windows NT 10.0; Win64; x64) Appl...</td>\n",
       "      <td>Online Medical Journal</td>\n",
       "      <td>Website</td>\n",
       "      <td>https://www.cancertherapyadvisor.com/home/canc...</td>\n",
       "      <td>General|Endocrine|False|Medicine|Surgery|Urolo...</td>\n",
       "      <td>NaN</td>\n",
       "      <td>0.0</td>\n",
       "    </tr>\n",
       "    <tr>\n",
       "      <th>1</th>\n",
       "      <td>1002</td>\n",
       "      <td>Desktop</td>\n",
       "      <td>2</td>\n",
       "      <td>65.216.253.25</td>\n",
       "      <td>c12f3f8f-8fcf-484a-90e1-1ac04db8cdcf</td>\n",
       "      <td>Arlington</td>\n",
       "      <td>22202.0</td>\n",
       "      <td>Mozilla/5.0 (Macintosh; Intel Mac OS X 10_15_7...</td>\n",
       "      <td>Online Medical Journal</td>\n",
       "      <td>Website</td>\n",
       "      <td>https://www.cancertherapyadvisor.com/home/deci...</td>\n",
       "      <td>Bone Marrow|Radiography|Chronic|Oncology|Psych...</td>\n",
       "      <td>NaN</td>\n",
       "      <td>0.0</td>\n",
       "    </tr>\n",
       "    <tr>\n",
       "      <th>2</th>\n",
       "      <td>1003</td>\n",
       "      <td>Desktop</td>\n",
       "      <td>2</td>\n",
       "      <td>66.232.79.22</td>\n",
       "      <td>a698de4b-e200-46dd-b5fb-40402175ae18</td>\n",
       "      <td>New Meadows</td>\n",
       "      <td>83654.0</td>\n",
       "      <td>Mozilla/5.0 (Macintosh; Intel Mac OS X 10_15_7...</td>\n",
       "      <td>Online Medical Journal</td>\n",
       "      <td>Website</td>\n",
       "      <td>https://www.cancertherapyadvisor.com/home/canc...</td>\n",
       "      <td>General|Endocrine|False|Medicine|Surgery|Urolo...</td>\n",
       "      <td>NaN</td>\n",
       "      <td>0.0</td>\n",
       "    </tr>\n",
       "    <tr>\n",
       "      <th>3</th>\n",
       "      <td>1004</td>\n",
       "      <td>Desktop</td>\n",
       "      <td>3</td>\n",
       "      <td>137.54.125.246</td>\n",
       "      <td>45967533-75c8-4fbd-a00c-e6ff20447aaa</td>\n",
       "      <td>NaN</td>\n",
       "      <td>229114624.0</td>\n",
       "      <td>Mozilla/5.0 (Windows NT 10.0; Win64; x64) Appl...</td>\n",
       "      <td>Online Medical Journal</td>\n",
       "      <td>Website</td>\n",
       "      <td>https://globalrph.com/medcalcs/warfarin-mainte...</td>\n",
       "      <td>Dental|Total|Clinical|Pharmacology|Physicians|...</td>\n",
       "      <td>2084P0800X</td>\n",
       "      <td>1.0</td>\n",
       "    </tr>\n",
       "    <tr>\n",
       "      <th>4</th>\n",
       "      <td>1005</td>\n",
       "      <td>Mobile</td>\n",
       "      <td>7</td>\n",
       "      <td>174.202.231.99</td>\n",
       "      <td>a17e25be-532d-4cf5-b916-9308c8c3961f</td>\n",
       "      <td>Houston</td>\n",
       "      <td>77008.0</td>\n",
       "      <td>Mozilla/5.0 (iPhone; CPU iPhone OS 16_1_1 like...</td>\n",
       "      <td>Online Medical Journal</td>\n",
       "      <td>Website</td>\n",
       "      <td>https://www.cureus.com/articles/58184-a-review...</td>\n",
       "      <td>Critical Care|Emergency Medicine|General Pract...</td>\n",
       "      <td>NaN</td>\n",
       "      <td>0.0</td>\n",
       "    </tr>\n",
       "    <tr>\n",
       "      <th>5</th>\n",
       "      <td>1006</td>\n",
       "      <td>Desktop</td>\n",
       "      <td>7</td>\n",
       "      <td>24.59.163.238</td>\n",
       "      <td>3b644d8f-b225-4ea3-b370-160ff7858749</td>\n",
       "      <td>Syracuse</td>\n",
       "      <td>13215.0</td>\n",
       "      <td>Mozilla/5.0 (Macintosh; Intel Mac OS X 10_15_6...</td>\n",
       "      <td>Online Medical Journal</td>\n",
       "      <td>Website</td>\n",
       "      <td>https://www.cureus.com/articles/131022-the-imp...</td>\n",
       "      <td>small|covid|nephrology|radiology|preventive me...</td>\n",
       "      <td>NaN</td>\n",
       "      <td>0.0</td>\n",
       "    </tr>\n",
       "    <tr>\n",
       "      <th>6</th>\n",
       "      <td>1007</td>\n",
       "      <td>Desktop</td>\n",
       "      <td>2</td>\n",
       "      <td>67.203.36.94</td>\n",
       "      <td>456631b8-ca59-4e7a-96a0-53bcbf85eaef</td>\n",
       "      <td>Los Angeles</td>\n",
       "      <td>90060.0</td>\n",
       "      <td>Mozilla/5.0 (Macintosh; Intel Mac OS X 10_15_7...</td>\n",
       "      <td>Online Medical Journal</td>\n",
       "      <td>Website</td>\n",
       "      <td>https://www.gastroenterologyadvisor.com/</td>\n",
       "      <td>Transplantation|Technology|Chronic|Neoplasms|U...</td>\n",
       "      <td>NaN</td>\n",
       "      <td>0.0</td>\n",
       "    </tr>\n",
       "    <tr>\n",
       "      <th>7</th>\n",
       "      <td>1008</td>\n",
       "      <td>Mobile</td>\n",
       "      <td>2</td>\n",
       "      <td>24.28.40.219</td>\n",
       "      <td>1e84b963-2a2a-4e1a-a767-33867aa89bd4</td>\n",
       "      <td>Dallas</td>\n",
       "      <td>75204.0</td>\n",
       "      <td>Mozilla/5.0 (iPhone; CPU iPhone OS 16_3 like M...</td>\n",
       "      <td>Online Medical Journal</td>\n",
       "      <td>Website</td>\n",
       "      <td>https://www.clinicaladvisor.com/home/features/...</td>\n",
       "      <td>Family Practice|Drainage|Clinical|Dermatology|...</td>\n",
       "      <td>NaN</td>\n",
       "      <td>0.0</td>\n",
       "    </tr>\n",
       "    <tr>\n",
       "      <th>8</th>\n",
       "      <td>1009</td>\n",
       "      <td>Mobile</td>\n",
       "      <td>2</td>\n",
       "      <td>104.172.116.202</td>\n",
       "      <td>be61a8f7-0f00-487f-8a56-679c819fa01a</td>\n",
       "      <td>Granada Hills</td>\n",
       "      <td>91344.0</td>\n",
       "      <td>Mozilla/5.0 (iPhone; CPU iPhone OS 15_5 like M...</td>\n",
       "      <td>Online Medical Journal</td>\n",
       "      <td>Website</td>\n",
       "      <td>https://www.cancertherapyadvisor.com/home/deci...</td>\n",
       "      <td>Intensive Care|Shock|Ischemic Heart Disease|He...</td>\n",
       "      <td>2084P0804X</td>\n",
       "      <td>1.0</td>\n",
       "    </tr>\n",
       "    <tr>\n",
       "      <th>9</th>\n",
       "      <td>1010</td>\n",
       "      <td>Desktop</td>\n",
       "      <td>5</td>\n",
       "      <td>170.178.236.25</td>\n",
       "      <td>ddbea19a-fa49-4d3d-965a-bee29cbe92da</td>\n",
       "      <td>Davenport</td>\n",
       "      <td>52807.0</td>\n",
       "      <td>Mozilla/5.0 (Windows NT 10.0; Win64; x64) Appl...</td>\n",
       "      <td>Online Medical Journal</td>\n",
       "      <td>Website</td>\n",
       "      <td>https://fpnotebook.com/Endo/Pharm/SgltInhbtr.htm</td>\n",
       "      <td>chronic kidney disease|nephrology|radiology|da...</td>\n",
       "      <td>NaN</td>\n",
       "      <td>0.0</td>\n",
       "    </tr>\n",
       "  </tbody>\n",
       "</table>\n",
       "</div>"
      ],
      "text/plain": [
       "     ID DEVICETYPE  PLATFORM_ID     BIDREQUESTIP  \\\n",
       "0  1001    Desktop            2     170.173.0.22   \n",
       "1  1002    Desktop            2    65.216.253.25   \n",
       "2  1003    Desktop            2     66.232.79.22   \n",
       "3  1004    Desktop            3   137.54.125.246   \n",
       "4  1005     Mobile            7   174.202.231.99   \n",
       "5  1006    Desktop            7    24.59.163.238   \n",
       "6  1007    Desktop            2     67.203.36.94   \n",
       "7  1008     Mobile            2     24.28.40.219   \n",
       "8  1009     Mobile            2  104.172.116.202   \n",
       "9  1010    Desktop            5   170.178.236.25   \n",
       "\n",
       "                        USERPLATFORMUID       USERCITY  USERZIPCODE  \\\n",
       "0  6974dcaa-f932-480e-9fb5-c52e20e1393a       Portland      97206.0   \n",
       "1  c12f3f8f-8fcf-484a-90e1-1ac04db8cdcf      Arlington      22202.0   \n",
       "2  a698de4b-e200-46dd-b5fb-40402175ae18    New Meadows      83654.0   \n",
       "3  45967533-75c8-4fbd-a00c-e6ff20447aaa            NaN  229114624.0   \n",
       "4  a17e25be-532d-4cf5-b916-9308c8c3961f        Houston      77008.0   \n",
       "5  3b644d8f-b225-4ea3-b370-160ff7858749       Syracuse      13215.0   \n",
       "6  456631b8-ca59-4e7a-96a0-53bcbf85eaef    Los Angeles      90060.0   \n",
       "7  1e84b963-2a2a-4e1a-a767-33867aa89bd4         Dallas      75204.0   \n",
       "8  be61a8f7-0f00-487f-8a56-679c819fa01a  Granada Hills      91344.0   \n",
       "9  ddbea19a-fa49-4d3d-965a-bee29cbe92da      Davenport      52807.0   \n",
       "\n",
       "                                           USERAGENT            PLATFORMTYPE  \\\n",
       "0  Mozilla/5.0 (Windows NT 10.0; Win64; x64) Appl...  Online Medical Journal   \n",
       "1  Mozilla/5.0 (Macintosh; Intel Mac OS X 10_15_7...  Online Medical Journal   \n",
       "2  Mozilla/5.0 (Macintosh; Intel Mac OS X 10_15_7...  Online Medical Journal   \n",
       "3  Mozilla/5.0 (Windows NT 10.0; Win64; x64) Appl...  Online Medical Journal   \n",
       "4  Mozilla/5.0 (iPhone; CPU iPhone OS 16_1_1 like...  Online Medical Journal   \n",
       "5  Mozilla/5.0 (Macintosh; Intel Mac OS X 10_15_6...  Online Medical Journal   \n",
       "6  Mozilla/5.0 (Macintosh; Intel Mac OS X 10_15_7...  Online Medical Journal   \n",
       "7  Mozilla/5.0 (iPhone; CPU iPhone OS 16_3 like M...  Online Medical Journal   \n",
       "8  Mozilla/5.0 (iPhone; CPU iPhone OS 15_5 like M...  Online Medical Journal   \n",
       "9  Mozilla/5.0 (Windows NT 10.0; Win64; x64) Appl...  Online Medical Journal   \n",
       "\n",
       "  CHANNELTYPE                                                URL  \\\n",
       "0     Website  https://www.cancertherapyadvisor.com/home/canc...   \n",
       "1     Website  https://www.cancertherapyadvisor.com/home/deci...   \n",
       "2     Website  https://www.cancertherapyadvisor.com/home/canc...   \n",
       "3     Website  https://globalrph.com/medcalcs/warfarin-mainte...   \n",
       "4     Website  https://www.cureus.com/articles/58184-a-review...   \n",
       "5     Website  https://www.cureus.com/articles/131022-the-imp...   \n",
       "6     Website           https://www.gastroenterologyadvisor.com/   \n",
       "7     Website  https://www.clinicaladvisor.com/home/features/...   \n",
       "8     Website  https://www.cancertherapyadvisor.com/home/deci...   \n",
       "9     Website   https://fpnotebook.com/Endo/Pharm/SgltInhbtr.htm   \n",
       "\n",
       "                                            KEYWORDS    TAXONOMY  IS_HCP  \n",
       "0  General|Endocrine|False|Medicine|Surgery|Urolo...         NaN     0.0  \n",
       "1  Bone Marrow|Radiography|Chronic|Oncology|Psych...         NaN     0.0  \n",
       "2  General|Endocrine|False|Medicine|Surgery|Urolo...         NaN     0.0  \n",
       "3  Dental|Total|Clinical|Pharmacology|Physicians|...  2084P0800X     1.0  \n",
       "4  Critical Care|Emergency Medicine|General Pract...         NaN     0.0  \n",
       "5  small|covid|nephrology|radiology|preventive me...         NaN     0.0  \n",
       "6  Transplantation|Technology|Chronic|Neoplasms|U...         NaN     0.0  \n",
       "7  Family Practice|Drainage|Clinical|Dermatology|...         NaN     0.0  \n",
       "8  Intensive Care|Shock|Ischemic Heart Disease|He...  2084P0804X     1.0  \n",
       "9  chronic kidney disease|nephrology|radiology|da...         NaN     0.0  "
      ]
     },
     "execution_count": 179,
     "metadata": {},
     "output_type": "execute_result"
    }
   ],
   "source": [
    "df.head(10)"
   ]
  },
  {
   "cell_type": "code",
   "execution_count": 180,
   "id": "47f99d07",
   "metadata": {},
   "outputs": [
    {
     "data": {
      "text/plain": [
       "Index(['ID', 'DEVICETYPE', 'PLATFORM_ID', 'BIDREQUESTIP', 'USERPLATFORMUID',\n",
       "       'USERCITY', 'USERZIPCODE', 'USERAGENT', 'PLATFORMTYPE', 'CHANNELTYPE',\n",
       "       'URL', 'KEYWORDS', 'TAXONOMY', 'IS_HCP'],\n",
       "      dtype='object')"
      ]
     },
     "execution_count": 180,
     "metadata": {},
     "output_type": "execute_result"
    }
   ],
   "source": [
    "df.columns"
   ]
  },
  {
   "cell_type": "code",
   "execution_count": 181,
   "id": "62f011ea",
   "metadata": {},
   "outputs": [
    {
     "data": {
      "text/plain": [
       "(113937, 14)"
      ]
     },
     "execution_count": 181,
     "metadata": {},
     "output_type": "execute_result"
    }
   ],
   "source": [
    "df.shape"
   ]
  },
  {
   "cell_type": "code",
   "execution_count": 182,
   "id": "aae8e621",
   "metadata": {},
   "outputs": [
    {
     "data": {
      "text/plain": [
       "'General|Endocrine|False|Medicine|Surgery|Urology|Chronic|Gastroenterology|Neurology|Physicians|Diagnosis|Psychiatry|Lung|Clinical|Dermatology|Ophthalmology|Cardiovascular|Cardiology|Oncology|Rheumatology'"
      ]
     },
     "execution_count": 182,
     "metadata": {},
     "output_type": "execute_result"
    }
   ],
   "source": [
    "df['KEYWORDS'][0]"
   ]
  },
  {
   "cell_type": "code",
   "execution_count": 183,
   "id": "b7f68607",
   "metadata": {},
   "outputs": [],
   "source": [
    "# Importing essential libraries for visualization\n",
    "import matplotlib.pyplot as plt\n",
    "import seaborn as sns\n",
    "%matplotlib inline"
   ]
  },
  {
   "cell_type": "code",
   "execution_count": 184,
   "id": "37b9aded",
   "metadata": {},
   "outputs": [
    {
     "data": {
      "image/png": "[encoded data removed]",
      "text/plain": [
       "<Figure size 1200x1200 with 1 Axes>"
      ]
     },
     "metadata": {},
     "output_type": "display_data"
    }
   ],
   "source": [
    "# Visualizing the count of 'two classes' column from the dataset\n",
    "plt.figure(figsize=(12,12))\n",
    "sns.countplot(x='IS_HCP', data=df)\n",
    "plt.xlabel('YES OR NO')\n",
    "plt.ylabel('Count')\n",
    "plt.title('HCP Plot')\n",
    "plt.show()"
   ]
  },
  {
   "cell_type": "markdown",
   "id": "c7a181a2",
   "metadata": {},
   "source": [
    "# Data Cleaning and Preprocessing"
   ]
  },
  {
   "cell_type": "code",
   "execution_count": 185,
   "id": "83def93e",
   "metadata": {},
   "outputs": [],
   "source": [
    "# remove unwanted columns\n",
    "selected_columns = ['ID', 'KEYWORDS','IS_HCP']\n",
    "\n",
    "# Create a new DataFrame with only the selected columns\n",
    "df = df[selected_columns]"
   ]
  },
  {
   "cell_type": "code",
   "execution_count": 186,
   "id": "4ae1d195",
   "metadata": {},
   "outputs": [
    {
     "data": {
      "text/plain": [
       "(113937, 3)"
      ]
     },
     "execution_count": 186,
     "metadata": {},
     "output_type": "execute_result"
    }
   ],
   "source": [
    "df.shape"
   ]
  },
  {
   "cell_type": "code",
   "execution_count": 187,
   "id": "50dc135f",
   "metadata": {
    "scrolled": false
   },
   "outputs": [],
   "source": [
    "container = []\n",
    "for i in range(0,df.shape[0]):\n",
    "    if(i!=73790):\n",
    "        keywords = str(df['KEYWORDS'][i]).replace(\"|\", \" \")\n",
    "        keywords = keywords.split()\n",
    "        keywords = ' '.join(keywords)\n",
    "        container.append(keywords)"
   ]
  },
  {
   "cell_type": "code",
   "execution_count": 188,
   "id": "bcb09bc1",
   "metadata": {},
   "outputs": [
    {
     "data": {
      "text/plain": [
       "113936"
      ]
     },
     "execution_count": 188,
     "metadata": {},
     "output_type": "execute_result"
    }
   ],
   "source": [
    "len(container)"
   ]
  },
  {
   "cell_type": "code",
   "execution_count": 189,
   "id": "75bc126d",
   "metadata": {},
   "outputs": [
    {
     "data": {
      "text/plain": [
       "113937"
      ]
     },
     "execution_count": 189,
     "metadata": {},
     "output_type": "execute_result"
    }
   ],
   "source": [
    "len(df['KEYWORDS'])"
   ]
  },
  {
   "cell_type": "code",
   "execution_count": 190,
   "id": "03032dd5",
   "metadata": {},
   "outputs": [],
   "source": [
    "df.dropna(inplace=True)"
   ]
  },
  {
   "cell_type": "code",
   "execution_count": 191,
   "id": "5993e54b",
   "metadata": {},
   "outputs": [
    {
     "data": {
      "text/plain": [
       "113936"
      ]
     },
     "execution_count": 191,
     "metadata": {},
     "output_type": "execute_result"
    }
   ],
   "source": [
    "len(df['KEYWORDS'])"
   ]
  },
  {
   "cell_type": "code",
   "execution_count": 192,
   "id": "0ba6ae1b",
   "metadata": {},
   "outputs": [],
   "source": [
    "df['KEYWORDS']=container"
   ]
  },
  {
   "cell_type": "code",
   "execution_count": 193,
   "id": "6675bc1e",
   "metadata": {},
   "outputs": [
    {
     "data": {
      "text/html": [
       "<div>\n",
       "<style scoped>\n",
       "    .dataframe tbody tr th:only-of-type {\n",
       "        vertical-align: middle;\n",
       "    }\n",
       "\n",
       "    .dataframe tbody tr th {\n",
       "        vertical-align: top;\n",
       "    }\n",
       "\n",
       "    .dataframe thead th {\n",
       "        text-align: right;\n",
       "    }\n",
       "</style>\n",
       "<table border=\"1\" class=\"dataframe\">\n",
       "  <thead>\n",
       "    <tr style=\"text-align: right;\">\n",
       "      <th></th>\n",
       "      <th>ID</th>\n",
       "      <th>KEYWORDS</th>\n",
       "      <th>IS_HCP</th>\n",
       "    </tr>\n",
       "  </thead>\n",
       "  <tbody>\n",
       "    <tr>\n",
       "      <th>0</th>\n",
       "      <td>1001</td>\n",
       "      <td>General Endocrine False Medicine Surgery Urolo...</td>\n",
       "      <td>0.0</td>\n",
       "    </tr>\n",
       "    <tr>\n",
       "      <th>1</th>\n",
       "      <td>1002</td>\n",
       "      <td>Bone Marrow Radiography Chronic Oncology Psych...</td>\n",
       "      <td>0.0</td>\n",
       "    </tr>\n",
       "    <tr>\n",
       "      <th>2</th>\n",
       "      <td>1003</td>\n",
       "      <td>General Endocrine False Medicine Surgery Urolo...</td>\n",
       "      <td>0.0</td>\n",
       "    </tr>\n",
       "    <tr>\n",
       "      <th>3</th>\n",
       "      <td>1004</td>\n",
       "      <td>Dental Total Clinical Pharmacology Physicians ...</td>\n",
       "      <td>1.0</td>\n",
       "    </tr>\n",
       "    <tr>\n",
       "      <th>4</th>\n",
       "      <td>1005</td>\n",
       "      <td>Critical Care Emergency Medicine General Pract...</td>\n",
       "      <td>0.0</td>\n",
       "    </tr>\n",
       "    <tr>\n",
       "      <th>...</th>\n",
       "      <td>...</td>\n",
       "      <td>...</td>\n",
       "      <td>...</td>\n",
       "    </tr>\n",
       "    <tr>\n",
       "      <th>113932</th>\n",
       "      <td>114933</td>\n",
       "      <td>Cardiovascular Clinical False Male Oncology Ps...</td>\n",
       "      <td>1.0</td>\n",
       "    </tr>\n",
       "    <tr>\n",
       "      <th>113933</th>\n",
       "      <td>114934</td>\n",
       "      <td>Asthma Arthritis General Clinical Diagnosis Rh...</td>\n",
       "      <td>1.0</td>\n",
       "    </tr>\n",
       "    <tr>\n",
       "      <th>113934</th>\n",
       "      <td>114935</td>\n",
       "      <td>Rehabilitation Transplantation Clinical Preven...</td>\n",
       "      <td>1.0</td>\n",
       "    </tr>\n",
       "    <tr>\n",
       "      <th>113935</th>\n",
       "      <td>114936</td>\n",
       "      <td>pain disease autoimmune multiple sclerosis gra...</td>\n",
       "      <td>1.0</td>\n",
       "    </tr>\n",
       "    <tr>\n",
       "      <th>113936</th>\n",
       "      <td>114937</td>\n",
       "      <td>Genetic Large Autoimmune Health False Abortion...</td>\n",
       "      <td>1.0</td>\n",
       "    </tr>\n",
       "  </tbody>\n",
       "</table>\n",
       "<p>113936 rows × 3 columns</p>\n",
       "</div>"
      ],
      "text/plain": [
       "            ID                                           KEYWORDS  IS_HCP\n",
       "0         1001  General Endocrine False Medicine Surgery Urolo...     0.0\n",
       "1         1002  Bone Marrow Radiography Chronic Oncology Psych...     0.0\n",
       "2         1003  General Endocrine False Medicine Surgery Urolo...     0.0\n",
       "3         1004  Dental Total Clinical Pharmacology Physicians ...     1.0\n",
       "4         1005  Critical Care Emergency Medicine General Pract...     0.0\n",
       "...        ...                                                ...     ...\n",
       "113932  114933  Cardiovascular Clinical False Male Oncology Ps...     1.0\n",
       "113933  114934  Asthma Arthritis General Clinical Diagnosis Rh...     1.0\n",
       "113934  114935  Rehabilitation Transplantation Clinical Preven...     1.0\n",
       "113935  114936  pain disease autoimmune multiple sclerosis gra...     1.0\n",
       "113936  114937  Genetic Large Autoimmune Health False Abortion...     1.0\n",
       "\n",
       "[113936 rows x 3 columns]"
      ]
     },
     "execution_count": 193,
     "metadata": {},
     "output_type": "execute_result"
    }
   ],
   "source": [
    "df"
   ]
  },
  {
   "cell_type": "code",
   "execution_count": 195,
   "id": "2023c2a5",
   "metadata": {},
   "outputs": [
    {
     "data": {
      "text/plain": [
       "'Medicine Transplantation Clinical Trauma Total Dermatology Oncology Ophthalmology Orthopedics Emergency Medicine Aneurysm General Surgical Oral Gastroenterology Rheumatology Intensive Care Blunt Cardiac Injury Cardiovascular Cardiac False Male Anesthesiology Pediatrics Critical Care General Practice Specialties Technology Urology Aortic Aneurysm Myocardial Infarction Ischemic Heart Disease Pathology Neurology Physical Medicine & Rehabilitation Preventive Medicine Surgery Health Rehabilitation Dissection Dentistry Large Otolaryngology Hematoma Arrhythmia Diagnosis Small Female Nuclear Medicine Atrial Fibrillation Heart Failure Hemothorax Resuscitation Preventive Cardiology Neurological Surgery Psychiatry'"
      ]
     },
     "execution_count": 195,
     "metadata": {},
     "output_type": "execute_result"
    }
   ],
   "source": [
    "container[10]"
   ]
  },
  {
   "cell_type": "code",
   "execution_count": 196,
   "id": "bd0178e3",
   "metadata": {},
   "outputs": [],
   "source": [
    "# Creating the Bag of Words model\n",
    "from sklearn.feature_extraction.text import CountVectorizer\n",
    "cv = CountVectorizer(max_features=5000, ngram_range=(1,2))\n",
    "X = cv.fit_transform(container).toarray()\n",
    "y = df['IS_HCP'].values"
   ]
  },
  {
   "cell_type": "code",
   "execution_count": 197,
   "id": "7e98647d",
   "metadata": {},
   "outputs": [
    {
     "data": {
      "text/plain": [
       "113936"
      ]
     },
     "execution_count": 197,
     "metadata": {},
     "output_type": "execute_result"
    }
   ],
   "source": [
    "len(y)"
   ]
  },
  {
   "cell_type": "code",
   "execution_count": 198,
   "id": "85c8ce16",
   "metadata": {},
   "outputs": [],
   "source": [
    "import pandas as pd\n",
    "from sklearn.feature_extraction.text import TfidfVectorizer\n",
    "from sklearn.model_selection import train_test_split"
   ]
  },
  {
   "cell_type": "code",
   "execution_count": 199,
   "id": "1908474c",
   "metadata": {},
   "outputs": [
    {
     "name": "stdout",
     "output_type": "stream",
     "text": [
      "X_train size: (91148, 5000), X_test size: (22788, 5000)\n"
     ]
    }
   ],
   "source": [
    "X_train, X_test, y_train, y_test = train_test_split(X, y, test_size=0.20, random_state=0)\n",
    "print('X_train size: {}, X_test size: {}'.format(X_train.shape, X_test.shape))"
   ]
  },
  {
   "cell_type": "markdown",
   "id": "094b215b",
   "metadata": {},
   "source": [
    "# Multinomial Naive Bayes"
   ]
  },
  {
   "cell_type": "code",
   "execution_count": 200,
   "id": "9068d3d3",
   "metadata": {},
   "outputs": [
    {
     "data": {
      "text/plain": [
       "MultinomialNB()"
      ]
     },
     "execution_count": 200,
     "metadata": {},
     "output_type": "execute_result"
    }
   ],
   "source": [
    "# Fitting Naive Bayes to the Training set\n",
    "from sklearn.naive_bayes import MultinomialNB\n",
    "nb_classifier = MultinomialNB()\n",
    "nb_classifier.fit(X_train, y_train)"
   ]
  },
  {
   "cell_type": "code",
   "execution_count": 201,
   "id": "29ad0788",
   "metadata": {},
   "outputs": [],
   "source": [
    "# Predicting the Test set results\n",
    "nb_y_pred = nb_classifier.predict(X_test)"
   ]
  },
  {
   "cell_type": "code",
   "execution_count": 202,
   "id": "53c899d5",
   "metadata": {},
   "outputs": [
    {
     "name": "stdout",
     "output_type": "stream",
     "text": [
      "---- Score ----\n",
      "Accuracy score is: 90.82%\n"
     ]
    }
   ],
   "source": [
    "# Calculating Accuracy\n",
    "from sklearn.metrics import accuracy_score\n",
    "score1 = accuracy_score(y_test, nb_y_pred)\n",
    "print(\"---- Score ----\")\n",
    "print(\"Accuracy score is: {}%\".format(round(score1*100,2)))"
   ]
  },
  {
   "cell_type": "code",
   "execution_count": 203,
   "id": "c389ead3",
   "metadata": {},
   "outputs": [],
   "source": [
    "# Making the Confusion Matrix\n",
    "from sklearn.metrics import confusion_matrix\n",
    "nb_cm = confusion_matrix(y_test, nb_y_pred)"
   ]
  },
  {
   "cell_type": "code",
   "execution_count": 204,
   "id": "10edab01",
   "metadata": {},
   "outputs": [
    {
     "data": {
      "text/plain": [
       "array([[14293,  1612],\n",
       "       [  479,  6404]], dtype=int64)"
      ]
     },
     "execution_count": 204,
     "metadata": {},
     "output_type": "execute_result"
    }
   ],
   "source": [
    "nb_cm"
   ]
  },
  {
   "cell_type": "markdown",
   "id": "71deaf2e",
   "metadata": {},
   "source": [
    "# Predictions"
   ]
  },
  {
   "cell_type": "code",
   "execution_count": 217,
   "id": "46efb6ed",
   "metadata": {},
   "outputs": [],
   "source": [
    "# For generating random integer\n",
    "from random import randint"
   ]
  },
  {
   "cell_type": "code",
   "execution_count": 218,
   "id": "0dd40063",
   "metadata": {},
   "outputs": [],
   "source": [
    "def is_hcp_prediction(sample_script):\n",
    "    keywords = str(sample_script).replace(\"|\", \" \")\n",
    "    keywords = keywords.split()\n",
    "    keywords = ' '.join(keywords)\n",
    "    temp = cv.transform([keywords]).toarray()\n",
    "    return nb_classifier.predict(temp)[0]"
   ]
  },
  {
   "cell_type": "code",
   "execution_count": 219,
   "id": "daaf4d3f",
   "metadata": {},
   "outputs": [
    {
     "data": {
      "text/plain": [
       "Index(['ID', 'DEVICETYPE', 'PLATFORM_ID', 'BIDREQUESTIP', 'USERPLATFORMUID',\n",
       "       'USERCITY', 'USERZIPCODE', 'USERAGENT', 'PLATFORMTYPE', 'CHANNELTYPE',\n",
       "       'URL', 'KEYWORDS'],\n",
       "      dtype='object')"
      ]
     },
     "execution_count": 219,
     "metadata": {},
     "output_type": "execute_result"
    }
   ],
   "source": [
    "# Loading test dataset\n",
    "test = pd.read_csv('Doceree-HCP_Test.csv')\n",
    "test.columns"
   ]
  },
  {
   "cell_type": "code",
   "execution_count": 220,
   "id": "5da9f050",
   "metadata": {},
   "outputs": [
    {
     "data": {
      "text/plain": [
       "(28493, 12)"
      ]
     },
     "execution_count": 220,
     "metadata": {},
     "output_type": "execute_result"
    }
   ],
   "source": [
    "test.shape"
   ]
  },
  {
   "cell_type": "code",
   "execution_count": 221,
   "id": "b0b8828a",
   "metadata": {},
   "outputs": [
    {
     "data": {
      "text/html": [
       "<div>\n",
       "<style scoped>\n",
       "    .dataframe tbody tr th:only-of-type {\n",
       "        vertical-align: middle;\n",
       "    }\n",
       "\n",
       "    .dataframe tbody tr th {\n",
       "        vertical-align: top;\n",
       "    }\n",
       "\n",
       "    .dataframe thead th {\n",
       "        text-align: right;\n",
       "    }\n",
       "</style>\n",
       "<table border=\"1\" class=\"dataframe\">\n",
       "  <thead>\n",
       "    <tr style=\"text-align: right;\">\n",
       "      <th></th>\n",
       "      <th>ID</th>\n",
       "      <th>KEYWORDS</th>\n",
       "    </tr>\n",
       "  </thead>\n",
       "  <tbody>\n",
       "    <tr>\n",
       "      <th>0</th>\n",
       "      <td>115501</td>\n",
       "      <td>Family Practice|Drainage|Clinical|Dermatology|...</td>\n",
       "    </tr>\n",
       "    <tr>\n",
       "      <th>1</th>\n",
       "      <td>115502</td>\n",
       "      <td>General|Clinical|Operative|Medicine|Cardiology...</td>\n",
       "    </tr>\n",
       "    <tr>\n",
       "      <th>2</th>\n",
       "      <td>115503</td>\n",
       "      <td>Abortion|Anxiety Disorders|Apnea|False|Trauma|...</td>\n",
       "    </tr>\n",
       "    <tr>\n",
       "      <th>3</th>\n",
       "      <td>115504</td>\n",
       "      <td>Health|Male|Neurological Surgery|Otolaryngolog...</td>\n",
       "    </tr>\n",
       "    <tr>\n",
       "      <th>4</th>\n",
       "      <td>115505</td>\n",
       "      <td>chronic kidney disease|pain|nephrology|disease...</td>\n",
       "    </tr>\n",
       "    <tr>\n",
       "      <th>5</th>\n",
       "      <td>115506</td>\n",
       "      <td>Abscess|Liver Transplantation|Transplantation|...</td>\n",
       "    </tr>\n",
       "    <tr>\n",
       "      <th>6</th>\n",
       "      <td>115507</td>\n",
       "      <td>the|medicine|oncology|</td>\n",
       "    </tr>\n",
       "    <tr>\n",
       "      <th>7</th>\n",
       "      <td>115508</td>\n",
       "      <td>General|Endocrine|False|Medicine|Surgery|Urolo...</td>\n",
       "    </tr>\n",
       "    <tr>\n",
       "      <th>8</th>\n",
       "      <td>115509</td>\n",
       "      <td>Medicine|Metabolic|Dermatology|Child|False|Mal...</td>\n",
       "    </tr>\n",
       "    <tr>\n",
       "      <th>9</th>\n",
       "      <td>115510</td>\n",
       "      <td>Hemoptysis|Oral|Rheumatology|Cardiovascular|Sm...</td>\n",
       "    </tr>\n",
       "  </tbody>\n",
       "</table>\n",
       "</div>"
      ],
      "text/plain": [
       "       ID                                           KEYWORDS\n",
       "0  115501  Family Practice|Drainage|Clinical|Dermatology|...\n",
       "1  115502  General|Clinical|Operative|Medicine|Cardiology...\n",
       "2  115503  Abortion|Anxiety Disorders|Apnea|False|Trauma|...\n",
       "3  115504  Health|Male|Neurological Surgery|Otolaryngolog...\n",
       "4  115505  chronic kidney disease|pain|nephrology|disease...\n",
       "5  115506  Abscess|Liver Transplantation|Transplantation|...\n",
       "6  115507                             the|medicine|oncology|\n",
       "7  115508  General|Endocrine|False|Medicine|Surgery|Urolo...\n",
       "8  115509  Medicine|Metabolic|Dermatology|Child|False|Mal...\n",
       "9  115510  Hemoptysis|Oral|Rheumatology|Cardiovascular|Sm..."
      ]
     },
     "execution_count": 221,
     "metadata": {},
     "output_type": "execute_result"
    }
   ],
   "source": [
    "# remove unwanted columns\n",
    "selected_columns = ['ID', 'KEYWORDS']\n",
    "test = test[selected_columns]\n",
    "test.head(10)"
   ]
  },
  {
   "cell_type": "code",
   "execution_count": 222,
   "id": "4b781547",
   "metadata": {},
   "outputs": [
    {
     "name": "stdout",
     "output_type": "stream",
     "text": [
      "Script: Elderly|Health|Nervous System|Geriatric Medicine|Oncology|Health Services|Mental Health|False|Central Nervous System Infections|General|Infected|Clinical|Sleep Disorders|Medicine|Total|Cardiology|Neurology|Urology\n",
      "prediction: 1\n"
     ]
    }
   ],
   "source": [
    "# Predicting values\n",
    "row = randint(0,test.shape[0]-1)\n",
    "sample_script = test['KEYWORDS'][row]\n",
    "print('Script: {}'.format(sample_script))\n",
    "value = is_hcp_prediction(sample_script)\n",
    "value=int(value)\n",
    "print('prediction: {}'.format(value))"
   ]
  },
  {
   "cell_type": "code",
   "execution_count": 223,
   "id": "d641b99c",
   "metadata": {},
   "outputs": [],
   "source": [
    "submission=[]\n",
    "id=test['ID'][0];\n",
    "for row in test:\n",
    "    sample_script = row[1]\n",
    "    value = is_hcp_prediction(sample_script)\n",
    "    entry=[row[0],value]\n",
    "    submission.append(entry)\n"
   ]
  },
  {
   "cell_type": "code",
   "execution_count": null,
   "id": "2c5f403f",
   "metadata": {},
   "outputs": [],
   "source": []
  },
  {
   "cell_type": "code",
   "execution_count": 226,
   "id": "b79b3c78",
   "metadata": {},
   "outputs": [
    {
     "data": {
      "text/plain": [
       "2"
      ]
     },
     "execution_count": 226,
     "metadata": {},
     "output_type": "execute_result"
    }
   ],
   "source": [
    "len(submission)"
   ]
  },
  {
   "cell_type": "code",
   "execution_count": 211,
   "id": "077dd292",
   "metadata": {},
   "outputs": [
    {
     "name": "stdout",
     "output_type": "stream",
     "text": [
      "data.csv created successfully.\n"
     ]
    }
   ],
   "source": [
    "import csv\n",
    "\n",
    "# Data to be written to the CSV file\n",
    "data = [\n",
    "    ['ID', 'IS_HCP'],\n",
    "]\n",
    "\n",
    "\n",
    "# Name of the CSV file\n",
    "filename = 'data.csv'\n",
    "\n",
    "# Open the file in write mode\n",
    "with open(filename, 'w', newline='') as csvfile:\n",
    "    # Create a CSV writer object\n",
    "    csvwriter = csv.writer(csvfile)\n",
    "\n",
    "    # Write the data to the CSV file\n",
    "    csvwriter.writerows(data)\n",
    "\n",
    "print(f'{filename} created successfully.')\n"
   ]
  },
  {
   "cell_type": "code",
   "execution_count": 212,
   "id": "21972efb",
   "metadata": {},
   "outputs": [
    {
     "name": "stdout",
     "output_type": "stream",
     "text": [
      "sumission.csv created successfully.\n"
     ]
    }
   ],
   "source": [
    "# Index of the field to copy (0-based index)\n",
    "field_index = 0\n",
    "\n",
    "# Destination list\n",
    "submission = []\n",
    "\n",
    "# Copy the desired field from source to destination\n",
    "for row in test:\n",
    "    field_value = row[field_index]\n",
    "    submission.append(field_value)\n",
    "    \n",
    "# Name of the CSV file\n",
    "filename = 'sumission.csv'\n",
    "\n",
    "# Open the file in write mode\n",
    "with open(filename, 'w', newline='') as csvfile:\n",
    "    # Create a CSV writer object\n",
    "    csvwriter = csv.writer(csvfile)\n",
    "\n",
    "    # Write the data to the CSV file\n",
    "    csvwriter.writerows(submission)\n",
    "\n",
    "print(f'{filename} created successfully.')\n"
   ]
  },
  {
   "cell_type": "code",
   "execution_count": null,
   "id": "97769867",
   "metadata": {},
   "outputs": [],
   "source": []
  }
 ],
 "metadata": {
  "kernelspec": {
   "display_name": "Python 3 (ipykernel)",
   "language": "python",
   "name": "python3"
  },
  "language_info": {
   "codemirror_mode": {
    "name": "ipython",
    "version": 3
   },
   "file_extension": ".py",
   "mimetype": "text/x-python",
   "name": "python",
   "nbconvert_exporter": "python",
   "pygments_lexer": "ipython3",
   "version": "3.9.13"
  }
 },
 "nbformat": 4,
 "nbformat_minor": 5
}
